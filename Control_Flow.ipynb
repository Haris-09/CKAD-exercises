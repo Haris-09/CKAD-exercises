{
  "nbformat": 4,
  "nbformat_minor": 0,
  "metadata": {
    "colab": {
      "provenance": [],
      "collapsed_sections": [],
      "authorship_tag": "ABX9TyPsDOR8BZsstvZgXnOkHFaz",
      "include_colab_link": true
    },
    "kernelspec": {
      "name": "python3",
      "display_name": "Python 3"
    },
    "language_info": {
      "name": "python"
    }
  },
  "cells": [
    {
      "cell_type": "markdown",
      "metadata": {
        "id": "view-in-github",
        "colab_type": "text"
      },
      "source": [
        "<a href=\"https://colab.research.google.com/github/Haris-09/CKAD-exercises/blob/master/Control_Flow.ipynb\" target=\"_parent\"><img src=\"https://colab.research.google.com/assets/colab-badge.svg\" alt=\"Open In Colab\"/></a>"
      ]
    },
    {
      "cell_type": "markdown",
      "source": [
        "#Conditional Statements"
      ],
      "metadata": {
        "id": "goot_wCl0yp5"
      }
    },
    {
      "cell_type": "markdown",
      "source": [
        "##Practice: Which Prize\n",
        "\n",
        "Write an if statement that lets a competitor know which of these prizes they won based on the number of points they scored, which is stored in the integer variable points.\n",
        "\n",
        "| Points  | Prize |\n",
        "| ------------- | ------------- |\n",
        "| 1 - 50  | wooden rabbit  |\n",
        "| 51 - 150  |no prize  |\n",
        "| 151 - 180  | wafer-thin mint  |\n",
        "| 181 - 200  |penguin  |\t\n",
        "\t\n",
        "All of the lower and upper bounds here are inclusive, and `points` can only take on positive integer values up to 200.\n",
        "\n",
        "In your `if` statement, assign the `result` variable to a string holding the appropriate message based on the value of `points`. If they've won a prize, the message should state `\"Congratulations! You won a [prize name]!\"` with the prize name. If there's no prize, the message should state `\"Oh dear, no prize this time.\"`\n",
        "\n",
        "**Note:** Feel free to test run your code with other inputs, but when you submit your answer, only use the original input of `points = 174`. You can hide your other inputs by commenting them out."
      ],
      "metadata": {
        "id": "OtlNSKEq1Ey3"
      }
    },
    {
      "cell_type": "code",
      "execution_count": 1,
      "metadata": {
        "colab": {
          "base_uri": "https://localhost:8080/"
        },
        "id": "-BjQ7RuI0qfZ",
        "outputId": "6714b4e3-fd7d-43fb-c6d3-19db517520fb"
      },
      "outputs": [
        {
          "output_type": "stream",
          "name": "stdout",
          "text": [
            "Congratulations! You won a wafer-thin mint!\n"
          ]
        }
      ],
      "source": [
        "points = 174  # use this input to make your submission\n",
        "\n",
        "# write your if statement here\n",
        "if points <= 50:\n",
        "    result = \"Congratulations! You won a wooden rabbit!\"\n",
        "elif points <= 150:\n",
        "    result = \"Oh dear, no prize this time.\"\n",
        "elif points <= 180:\n",
        "    result = \"Congratulations! You won a wafer-thin mint!\"\n",
        "else:\n",
        "    result = \"Congratulations! You won a penguin!\"\n",
        "\n",
        "print(result)"
      ]
    },
    {
      "cell_type": "markdown",
      "source": [
        "We use `<=` instead of the `<` operator, since it was stated that the upper bound is inclusive. Notice that in each condition, we check if `points` is in a prize bracket by checking if `points` is less than or equal to the upper bound; we didn't have to check if it was greater than the lower bound. Let's see why this is the case.\n",
        "\n",
        "When `points = 174`, it first checks if `points <= 50`, which evaluates to False. We don't have to check if it is also greater than 0, since it is stated in the problem that `points` will always be a positive integer up to 200.\n",
        "\n",
        "Since the first condition evaluates to False, it moves on to check the next condition, `points <= 150`. **We don't need to check if it is also greater than 50 here!** We already know this is the case because the first condition has to have evaluated to False in order to get to this point. If we know `points <= 50` is False, then `points > 50` must be True!\n",
        "\n",
        "Finally, we check if `points <= 180`, which evaluates to True. We now know that `points` is in the 151 - 180 bracket.\n",
        "\n",
        "The last prize bracket, 181-200, is caught in the `else` clause, since there is no other possible value of the prize after checking the previous conditions."
      ],
      "metadata": {
        "id": "5yel0iq5409t"
      }
    },
    {
      "cell_type": "markdown",
      "source": [
        "##Quiz: Guess My Number\n",
        "You decide you want to play a game where you are hiding a number from someone. Store this number in a variable called 'answer'. Another user provides a number called 'guess'. By comparing 'guess' to 'answer', you inform the user if their guess is too high or too low.\n",
        "\n",
        "Fill in the conditionals below to inform the user about how their guess compares to the answer."
      ],
      "metadata": {
        "id": "szCjGLUm6sAM"
      }
    },
    {
      "cell_type": "code",
      "source": [
        "# '''\n",
        "# You decide you want to play a game where you are hiding \n",
        "# a number from someone.  Store this number in a variable \n",
        "# called 'answer'.  Another user provides a number called\n",
        "# 'guess'.  By comparing guess to answer, you inform the user\n",
        "# if their guess is too high or too low.\n",
        "\n",
        "# Fill in the conditionals below to inform the user about how\n",
        "# their guess compares to the answer.\n",
        "# '''\n",
        "answer = 7\n",
        "guess = 9\n",
        "\n",
        "if guess < answer:\n",
        "    result = \"Oops!  Your guess was too low.\"\n",
        "elif guess > answer:\n",
        "    result = \"Oops!  Your guess was too high.\"\n",
        "elif guess == answer:\n",
        "    result = \"Nice!  Your guess matched the answer!\"\n",
        "\n",
        "print(result)"
      ],
      "metadata": {
        "colab": {
          "base_uri": "https://localhost:8080/"
        },
        "id": "2r-Mn4154g1e",
        "outputId": "9e43857e-82c7-4fae-e26a-9c5bdcd77cf7"
      },
      "execution_count": 2,
      "outputs": [
        {
          "output_type": "stream",
          "name": "stdout",
          "text": [
            "Oops!  Your guess was too high.\n"
          ]
        }
      ]
    },
    {
      "cell_type": "markdown",
      "source": [
        "##Quiz: Tax Purchase\n",
        "Depending on where an individual is from we need to tax them appropriately. The states of CA, MN, and NY have taxes of 7.5%, 9.5%, and 8.9% respectively. Use this information to take the amount of a purchase and the corresponding state to assure that they are taxed by the right amount."
      ],
      "metadata": {
        "id": "aC35O5O67Cwq"
      }
    },
    {
      "cell_type": "code",
      "source": [
        "# '''\n",
        "# Depending on where an individual is from we need to tax them \n",
        "# appropriately.  The states of CA, MN, and \n",
        "# NY have taxes of 7.5%, 9.5%, and 8.9% respectively.\n",
        "# Use this information to take the amount of a purchase and \n",
        "# the corresponding state to assure that they are taxed by the right\n",
        "# amount.\n",
        "# '''\n",
        "state = 'CA'\n",
        "purchase_amount = 3000\n",
        "\n",
        "if state == 'CA':\n",
        "    tax_amount = .075\n",
        "    total_cost = purchase_amount*(1+tax_amount)\n",
        "    result = \"Since you're from {}, your total cost is {}.\".format(state, total_cost)\n",
        "\n",
        "elif state == 'MN':\n",
        "    tax_amount = .095\n",
        "    total_cost = purchase_amount*(1+tax_amount)\n",
        "    result = \"Since you're from {}, your total cost is {}.\".format(state, total_cost)\n",
        "\n",
        "elif state == 'NY':\n",
        "    tax_amount = .089\n",
        "    total_cost = purchase_amount*(1+tax_amount)\n",
        "    result = \"Since you're from {}, your total cost is {}.\".format(state, total_cost)\n",
        "\n",
        "print(result)"
      ],
      "metadata": {
        "colab": {
          "base_uri": "https://localhost:8080/"
        },
        "id": "tMQUpagP68g8",
        "outputId": "4f8ce6c1-d8f7-4adf-c6b3-f05cb0cd5c7e"
      },
      "execution_count": 3,
      "outputs": [
        {
          "output_type": "stream",
          "name": "stdout",
          "text": [
            "Since you're from CA, your total cost is 3225.0.\n"
          ]
        }
      ]
    },
    {
      "cell_type": "markdown",
      "source": [
        "#Boolean Expressions for Conditions"
      ],
      "metadata": {
        "id": "dUkzIMnh7giC"
      }
    },
    {
      "cell_type": "markdown",
      "source": [
        "##Complex Boolean Expressions\n",
        "`If` statements sometimes use more complicated boolean expressions for their conditions. They may contain multiple comparisons operators, logical operators, and even calculations. Examples:\n",
        "```\n",
        "if 18.5 <= weight / height**2 < 25:\n",
        "    print(\"BMI is considered 'normal'\")\n",
        "\n",
        "if is_raining and is_sunny:\n",
        "    print(\"Is there a rainbow?\")\n",
        "\n",
        "if (not unsubscribed) and (location == \"USA\" or location == \"CAN\"):\n",
        "    print(\"send email\")\n",
        "```\n",
        "For really complicated conditions you might need to combine some `and`s, `or`s and `not`s together. Use parentheses if you need to make the combinations clear.\n",
        "\n",
        "However simple or complex, the condition in an `if` statement must be a boolean expression that evaluates to either True or False and it is this value that decides whether the indented block in an `if` statement executes or not.\n",
        "\n",
        "##Good and Bad Examples\n",
        "Here are some things to keep in mind while writing boolean expressions for your `if` statements.\n",
        "\n",
        "**1. Don't use True or False as conditions**\n",
        "```\n",
        "# Bad example\n",
        "if True:\n",
        "    print(\"This indented code will always get run.\")\n",
        "```\n",
        "While \"True\" is a valid boolean expression, it's not useful as a condition since it always evaluates to True, so the indented code will always get run. Similarly, `if False` is not a condition you should use either - the statement following this `if` statement would never be executed.\n",
        "```\n",
        "# Another bad example\n",
        "if is_cold or not is_cold:\n",
        "    print(\"This indented code will always get run.\")\n",
        "```\n",
        "Similarly, it's useless to use any condition that you know will always evaluate to True, like this example above. A boolean variable can only be True or False, so either `is_cold` or `not is_cold` is always True, and the indented code will always be run.\n",
        "\n",
        "**2. Be careful writing expressions that use logical operators**\n",
        "Logical operators and, or and not have specific meanings that aren't quite the same as their meanings in plain English. Make sure your boolean expressions are being evaluated the way you expect them to.\n",
        "```\n",
        "# Bad example\n",
        "if weather == \"snow\" or \"rain\":\n",
        "    print(\"Wear boots!\")\n",
        "```\n",
        "This code is valid in Python, but it is not a boolean expression, although it reads like one. The reason is that the expression to the right of the `or` operator, `\"rain\"`, is not a boolean expression - it's a string! Later we'll discuss what happens when you use non-boolean-type objects in place of booleans.\n",
        "\n",
        "**3. Don't compare a boolean variable with == True or == False**\n",
        "This comparison isn’t necessary, since the boolean variable itself is a boolean expression.\n",
        "```\n",
        "# Bad example\n",
        "if is_cold == True:\n",
        "    print(\"The weather is cold!\")\n",
        "```\n",
        "This is a valid condition, but we can make the code more readable by using the variable itself as the condition instead, as below\n",
        "```\n",
        "# Good example\n",
        "if is_cold:\n",
        "    print(\"The weather is cold!\")\n",
        "```\n",
        "If you want to check whether a boolean is False, you can use the `not` operator.\n",
        "\n",
        "##Truth Value Testing\n",
        "If we use a non-boolean object as a condition in an `if` statement in place of the boolean expression, Python will check for its truth value and use that to decide whether or not to run the indented code. By default, the truth value of an object in Python is considered True unless specified as False in the documentation.\n",
        "\n",
        "Here are most of the built-in objects that are considered False in Python:\n",
        "\n",
        "constants defined to be false: `None` and `False`\n",
        "zero of any numeric type: `0`, `0.0`, `0j`, `Decimal(0)`, `Fraction(0, 1)`\n",
        "empty sequences and collections: `'\"\"`, `()`, `[]`, `{}`, `set()`, `range(0)`\n",
        "Example:\n",
        "```\n",
        "errors = 3\n",
        "if errors:\n",
        "    print(\"You have {} errors to fix!\".format(errors))\n",
        "else:\n",
        "    print(\"No errors to fix!\")\n",
        "```\n",
        "In this code, `errors` has the truth value True because it's a non-zero number, so the error message is printed. This is a nice, succinct way of writing an `if` statement."
      ],
      "metadata": {
        "id": "m15TbACy7nOq"
      }
    },
    {
      "cell_type": "markdown",
      "source": [
        "##Quiz: Using Truth Values of Objects\n",
        "The code below is the solution to the Which Prize quiz you've seen previously. You're going to rewrite this based on what you've learned about truth values."
      ],
      "metadata": {
        "id": "5ORctVjEAfUw"
      }
    },
    {
      "cell_type": "code",
      "source": [
        "points = 174\n",
        "\n",
        "if points <= 50:\n",
        "    result = \"Congratulations! You won a wooden rabbit!\"\n",
        "elif points <= 150:\n",
        "    result = \"Oh dear, no prize this time.\"\n",
        "elif points <= 180:\n",
        "    result = \"Congratulations! You won a wafer-thin mint!\"\n",
        "else:\n",
        "    result = \"Congratulations! You won a penguin!\"\n",
        "\n",
        "print(result)"
      ],
      "metadata": {
        "colab": {
          "base_uri": "https://localhost:8080/"
        },
        "id": "ZHOPO3kV7LSB",
        "outputId": "e1834c07-c34f-4e31-8041-2312f22f3eb9"
      },
      "execution_count": 4,
      "outputs": [
        {
          "output_type": "stream",
          "name": "stdout",
          "text": [
            "Congratulations! You won a wafer-thin mint!\n"
          ]
        }
      ]
    },
    {
      "cell_type": "markdown",
      "source": [
        "You will use a new variable `prize` to store a prize name if one was won, and then use the truth value of this variable to compose the `result` message. This will involve two `if` statements.\n",
        "\n",
        "**1st conditional statement:** update `prize` to the correct prize name based on `points`.\n",
        "\n",
        "**2nd conditional statement:** set result to the correct phrase based on whether prize is evaluated as True or False.\n",
        "\n",
        "- If `prize` is None, `result` should be set to `\"Oh dear, no prize this time.\"`\n",
        "- If `prize` contains a prize name, `result` should be set to `\"Congratulations! You won a {}!\".format(prize)`. This will avoid having the multiple result assignments for different prizes.\n",
        "\n",
        "At the beginning of your code, set prize to None, as the default value."
      ],
      "metadata": {
        "id": "JFGz5b4kA08_"
      }
    },
    {
      "cell_type": "code",
      "source": [
        "points = 174  # use this as input for your submission\n",
        "\n",
        "# use the value of points to assign prize to the correct prize name\n",
        "if points <= 50:\n",
        "    prize = \"wooden rabbit\"\n",
        "elif 151 <= points <= 180:\n",
        "    prize = \"wafer-thin mint\"\n",
        "elif points >= 181:\n",
        "    prize = \"penguin\"\n",
        "\n",
        "# use the truth value of prize to assign result to the correct message\n",
        "if prize:\n",
        "    result = \"Congratulations! You won a {}!\".format(prize)\n",
        "else:\n",
        "    result = \"Oh dear, no prize this time.\"\n",
        "\n",
        "print(result)"
      ],
      "metadata": {
        "colab": {
          "base_uri": "https://localhost:8080/"
        },
        "id": "xSk_Af2UAt6I",
        "outputId": "5a64bd7a-928b-4992-e862-407e0bac3237"
      },
      "execution_count": 5,
      "outputs": [
        {
          "output_type": "stream",
          "name": "stdout",
          "text": [
            "Congratulations! You won a wafer-thin mint!\n"
          ]
        }
      ]
    },
    {
      "cell_type": "markdown",
      "source": [
        "We first set `prize` to `None` and then update it only if falls into a bracket that results in winning a prize. This is accomplished in the first `if` statement. We then use the truth value of `prize` to assign `result` to a message based on whether a prize was won.\n",
        "\n",
        "Remember when `prize = \"penguin\"`, or any other non-empty string, then the `if prize` condition is True!"
      ],
      "metadata": {
        "id": "vL6m5AwOFR-J"
      }
    },
    {
      "cell_type": "code",
      "source": [],
      "metadata": {
        "id": "apNuRWeRCipM"
      },
      "execution_count": null,
      "outputs": []
    }
  ]
}